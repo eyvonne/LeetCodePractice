{
 "cells": [
  {
   "cell_type": "code",
   "execution_count": 55,
   "metadata": {},
   "outputs": [],
   "source": [
    "import pandas as pd\n",
    "import numpy as np\n",
    "from sklearn.ensemble import RandomForestRegressor"
   ]
  },
  {
   "cell_type": "code",
   "execution_count": 75,
   "metadata": {},
   "outputs": [],
   "source": [
    "temperatures = []\n",
    "with open('input001.txt', 'r') as f:\n",
    "    for line in f.readlines()[3:-1]:\n",
    "        temperatures.append(line.strip())\n",
    "startDate = '2014-05-03'\n",
    "endDate = '2014-09-10'\n",
    "n = 48"
   ]
  },
  {
   "cell_type": "code",
   "execution_count": 26,
   "metadata": {},
   "outputs": [],
   "source": [
    "# given X days of temperature data, \n",
    "# predict another n days worth of temperatures\n",
    "def predictTemperature(startDate, endDate, temperature, n):\n",
    "    # convert the dates into something useful\n",
    "    startDate = pd.to_datetime(startDate)\n",
    "    endDate = pd.to_datetime(endDate)\n",
    "    # get the number of days of input data\n",
    "    days = (endDate - startDate).days + 1\n",
    "    # create a dataframe of the input spread out into days\n",
    "    daily = []\n",
    "    for i in range(days):\n",
    "        daily.append(temperatures[i*24:i*24+24])\n",
    "    # transform into hour, day (from start), temperature sets\n",
    "    train = []\n",
    "    day = 0\n",
    "    for d in daily:\n",
    "        for h, t in enumerate(d):\n",
    "            train.append([h, day, float(t)])\n",
    "        day += 1\n",
    "    train = pd.DataFrame(np.array(train), columns=['hour', 'day','temp'])\n",
    "    # day now starts at the first day predicted\n",
    "    # set up the predictions table as hour day pairs\n",
    "    find = []\n",
    "    for _ in range(n):\n",
    "        for i in range(24):\n",
    "            find.append([i, day])\n",
    "        day += 1\n",
    "    find = np.array(find)\n",
    "    # instantiate and train the model\n",
    "    model = RandomForestRegressor(n_jobs = -1)\n",
    "    model.fit(train[['hour', 'day']], train['temp'])\n",
    "    # run the predictions\n",
    "    return model.predict(find)\n"
   ]
  },
  {
   "cell_type": "code",
   "execution_count": 79,
   "metadata": {},
   "outputs": [
    {
     "name": "stderr",
     "output_type": "stream",
     "text": [
      "/Users/eyvonnegeordan/anaconda3/lib/python3.7/site-packages/sklearn/ensemble/forest.py:245: FutureWarning: The default value of n_estimators will change from 10 in version 0.20 to 100 in 0.22.\n",
      "  \"10 in version 0.20 to 100 in 0.22.\", FutureWarning)\n"
     ]
    },
    {
     "data": {
      "text/plain": [
       "array([62.39 , 62.336, 61.994, ..., 62.441, 61.954, 62.58 ])"
      ]
     },
     "execution_count": 79,
     "metadata": {},
     "output_type": "execute_result"
    }
   ],
   "source": [
    "# convert the dates into something useful\n",
    "startDate = pd.to_datetime(startDate)\n",
    "endDate = pd.to_datetime(endDate)\n",
    "# get the number of days of input data\n",
    "days = (endDate - startDate).days + 1\n",
    "# create a dataframe of the input spread out into days\n",
    "daily = []\n",
    "for i in range(days):\n",
    "    daily.append(temperatures[i*24:i*24+24])\n",
    "# transform into hour, day (from start), temperature sets\n",
    "train = []\n",
    "day = 0\n",
    "for d in daily:\n",
    "    for h, t in enumerate(d):\n",
    "        train.append([h, day, float(t)])\n",
    "    day += 1\n",
    "train = pd.DataFrame(np.array(train), columns=['hour', 'day','temp'])\n",
    "# day now starts at the first day predicted\n",
    "# set up the predictions table as hour day pairs\n",
    "find = []\n",
    "for _ in range(n):\n",
    "    for i in range(24):\n",
    "        find.append([i, day])\n",
    "    day += 1\n",
    "find = np.array(find)\n",
    "# instantiate and train the model\n",
    "model = RandomForestRegressor(n_jobs = -1)\n",
    "model.fit(train[['hour', 'day']], train['temp'])\n",
    "# run the predictions\n",
    "return model.predict(find)"
   ]
  },
  {
   "cell_type": "code",
   "execution_count": 74,
   "metadata": {},
   "outputs": [
    {
     "data": {
      "text/plain": [
       "Timestamp('2014-05-04 00:00:00')"
      ]
     },
     "execution_count": 74,
     "metadata": {},
     "output_type": "execute_result"
    }
   ],
   "source": [
    "# idea time:\n",
    "# use hour of day as input, temperature as output\n",
    "# this means I need a different data layout\n",
    "startDate + timedelta(days=1)"
   ]
  },
  {
   "cell_type": "code",
   "execution_count": 57,
   "metadata": {},
   "outputs": [
    {
     "data": {
      "text/plain": [
       "Timestamp('2014-05-03 00:00:00')"
      ]
     },
     "execution_count": 57,
     "metadata": {},
     "output_type": "execute_result"
    }
   ],
   "source": [
    "startDate"
   ]
  },
  {
   "cell_type": "code",
   "execution_count": null,
   "metadata": {},
   "outputs": [],
   "source": []
  }
 ],
 "metadata": {
  "kernelspec": {
   "display_name": "Python 3",
   "language": "python",
   "name": "python3"
  },
  "language_info": {
   "codemirror_mode": {
    "name": "ipython",
    "version": 3
   },
   "file_extension": ".py",
   "mimetype": "text/x-python",
   "name": "python",
   "nbconvert_exporter": "python",
   "pygments_lexer": "ipython3",
   "version": "3.7.3"
  }
 },
 "nbformat": 4,
 "nbformat_minor": 4
}
