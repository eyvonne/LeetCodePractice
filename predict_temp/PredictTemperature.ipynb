{
 "cells": [
  {
   "cell_type": "code",
   "execution_count": 1,
   "metadata": {},
   "outputs": [
    {
     "ename": "ModuleNotFoundError",
     "evalue": "No module named 'sklearn'",
     "output_type": "error",
     "traceback": [
      "\u001b[0;31m---------------------------------------------------------------------------\u001b[0m",
      "\u001b[0;31mModuleNotFoundError\u001b[0m                       Traceback (most recent call last)",
      "\u001b[0;32m<ipython-input-1-005f52e7b4af>\u001b[0m in \u001b[0;36m<module>\u001b[0;34m\u001b[0m\n\u001b[1;32m      1\u001b[0m \u001b[0;32mimport\u001b[0m \u001b[0mpandas\u001b[0m \u001b[0;32mas\u001b[0m \u001b[0mpd\u001b[0m\u001b[0;34m\u001b[0m\u001b[0;34m\u001b[0m\u001b[0m\n\u001b[1;32m      2\u001b[0m \u001b[0;32mimport\u001b[0m \u001b[0mnumpy\u001b[0m \u001b[0;32mas\u001b[0m \u001b[0mnp\u001b[0m\u001b[0;34m\u001b[0m\u001b[0;34m\u001b[0m\u001b[0m\n\u001b[0;32m----> 3\u001b[0;31m \u001b[0;32mfrom\u001b[0m \u001b[0msklearn\u001b[0m\u001b[0;34m.\u001b[0m\u001b[0mensemble\u001b[0m \u001b[0;32mimport\u001b[0m \u001b[0mRandomForestRegressor\u001b[0m\u001b[0;34m\u001b[0m\u001b[0;34m\u001b[0m\u001b[0m\n\u001b[0m",
      "\u001b[0;31mModuleNotFoundError\u001b[0m: No module named 'sklearn'"
     ]
    }
   ],
   "source": [
    "import pandas as pd\n",
    "import numpy as np\n",
    "from sklearn.ensemble import RandomForestRegressor"
   ]
  },
  {
   "cell_type": "code",
   "execution_count": 75,
   "metadata": {},
   "outputs": [],
   "source": [
    "temperatures = []\n",
    "with open('input001.txt', 'r') as f:\n",
    "    for line in f.readlines()[3:-1]:\n",
    "        temperatures.append(line.strip())\n",
    "startDate = '2014-05-03'\n",
    "endDate = '2014-09-10'\n",
    "n = 48"
   ]
  },
  {
   "cell_type": "code",
   "execution_count": 2,
   "metadata": {},
   "outputs": [
    {
     "name": "stdout",
     "output_type": "stream",
     "text": [
      "Collecting sklearn\n",
      "  Using cached https://files.pythonhosted.org/packages/1e/7a/dbb3be0ce9bd5c8b7e3d87328e79063f8b263b2b1bfa4774cb1147bfcd3f/sklearn-0.0.tar.gz\n",
      "Collecting scikit-learn (from sklearn)\n",
      "  Using cached https://files.pythonhosted.org/packages/23/b0/ff0f4ffa3da1ddb242a295d5d19dd1775f567ad73a6ea7474eaa55e04836/scikit-learn-0.23.1.tar.gz\n",
      "  Installing build dependencies ... \u001b[?25ldone\n",
      "\u001b[?25h  Getting requirements to build wheel ... \u001b[?25l-error\n",
      "\r"
     ]
    },
    {
     "name": "stderr",
     "output_type": "stream",
     "text": [
      "\u001b[31m  ERROR: Complete output from command /var/mobile/Containers/Data/Application/038B839D-E008-4CE9-A63F-5ACC64DF4432/Library/bin/python3 /var/mobile/Containers/Data/Application/038B839D-E008-4CE9-A63F-5ACC64DF4432/Library/lib/python3.7/site-packages/pip/_vendor/pep517/_in_process.py get_requires_for_build_wheel /private/var/mobile/Containers/Data/Application/038B839D-E008-4CE9-A63F-5ACC64DF4432/tmp/tmpcewzh540:\u001b[0m\n",
      "\u001b[31m  ERROR: Traceback (most recent call last):\n",
      "    File \"/var/mobile/Containers/Data/Application/038B839D-E008-4CE9-A63F-5ACC64DF4432/Library/lib/python3.7/site-packages/pip/_vendor/pep517/_in_process.py\", line 207, in <module>\n",
      "      main()\n",
      "    File \"/var/mobile/Containers/Data/Application/038B839D-E008-4CE9-A63F-5ACC64DF4432/Library/lib/python3.7/site-packages/pip/_vendor/pep517/_in_process.py\", line 197, in main\n",
      "      json_out['return_val'] = hook(**hook_input['kwargs'])\n",
      "    File \"/var/mobile/Containers/Data/Application/038B839D-E008-4CE9-A63F-5ACC64DF4432/Library/lib/python3.7/site-packages/pip/_vendor/pep517/_in_process.py\", line 48, in get_requires_for_build_wheel\n",
      "      backend = _build_backend()\n",
      "    File \"/var/mobile/Containers/Data/Application/038B839D-E008-4CE9-A63F-5ACC64DF4432/Library/lib/python3.7/site-packages/pip/_vendor/pep517/_in_process.py\", line 39, in _build_backend\n",
      "      obj = getattr(obj, path_part)\n",
      "  AttributeError: module 'setuptools.build_meta' has no attribute __getattr__\n",
      "  ----------------------------------------\u001b[0m\n",
      "\u001b[31mERROR: Command \"/var/mobile/Containers/Data/Application/038B839D-E008-4CE9-A63F-5ACC64DF4432/Library/bin/python3 /var/mobile/Containers/Data/Application/038B839D-E008-4CE9-A63F-5ACC64DF4432/Library/lib/python3.7/site-packages/pip/_vendor/pep517/_in_process.py get_requires_for_build_wheel /private/var/mobile/Containers/Data/Application/038B839D-E008-4CE9-A63F-5ACC64DF4432/tmp/tmpcewzh540\" failed with error code 1 in /private/var/mobile/Containers/Data/Application/038B839D-E008-4CE9-A63F-5ACC64DF4432/tmp/pip-install-p6ghs6al/scikit-learn\u001b[0m\n",
      "\r"
     ]
    },
    {
     "name": "stdout",
     "output_type": "stream",
     "text": [
      "Note: you may need to restart the kernel to use updated packages.\n"
     ]
    }
   ],
   "source": [
    "%pip install sklearn "
   ]
  },
  {
   "cell_type": "code",
   "execution_count": 26,
   "metadata": {},
   "outputs": [],
   "source": [
    "# given X days of temperature data, \n",
    "# predict another n days worth of temperatures\n",
    "def predictTemperature(startDate, endDate, temperature, n):\n",
    "    # convert the dates into something useful\n",
    "    startDate = pd.to_datetime(startDate)\n",
    "    endDate = pd.to_datetime(endDate)\n",
    "    # get the number of days of input data\n",
    "    days = (endDate - startDate).days + 1\n",
    "    # create a dataframe of the input spread out into days\n",
    "    daily = []\n",
    "    for i in range(days):\n",
    "        daily.append(temperatures[i*24:i*24+24])\n",
    "    # transform into hour, day (from start), temperature sets\n",
    "    train = []\n",
    "    day = 0\n",
    "    for d in daily:\n",
    "        for h, t in enumerate(d):\n",
    "            train.append([h, day, float(t)])\n",
    "        day += 1\n",
    "    train = pd.DataFrame(np.array(train), columns=['hour', 'day','temp'])\n",
    "    # day now starts at the first day predicted\n",
    "    # set up the predictions table as hour day pairs\n",
    "    find = []\n",
    "    for _ in range(n):\n",
    "        for i in range(24):\n",
    "            find.append([i, day])\n",
    "        day += 1\n",
    "    find = np.array(find)\n",
    "    # instantiate and train the model\n",
    "    model = RandomForestRegressor(n_jobs = -1)\n",
    "    model.fit(train[['hour', 'day']], train['temp'])\n",
    "    # run the predictions\n",
    "    return model.predict(find)\n"
   ]
  },
  {
   "cell_type": "code",
   "execution_count": 79,
   "metadata": {},
   "outputs": [
    {
     "name": "stderr",
     "output_type": "stream",
     "text": [
      "/Users/eyvonnegeordan/anaconda3/lib/python3.7/site-packages/sklearn/ensemble/forest.py:245: FutureWarning: The default value of n_estimators will change from 10 in version 0.20 to 100 in 0.22.\n",
      "  \"10 in version 0.20 to 100 in 0.22.\", FutureWarning)\n"
     ]
    },
    {
     "data": {
      "text/plain": [
       "array([62.39 , 62.336, 61.994, ..., 62.441, 61.954, 62.58 ])"
      ]
     },
     "execution_count": 79,
     "metadata": {},
     "output_type": "execute_result"
    }
   ],
   "source": [
    "# convert the dates into something useful\n",
    "startDate = pd.to_datetime(startDate)\n",
    "endDate = pd.to_datetime(endDate)\n",
    "# get the number of days of input data\n",
    "days = (endDate - startDate).days + 1\n",
    "# create a dataframe of the input spread out into days\n",
    "daily = []\n",
    "for i in range(days):\n",
    "    daily.append(temperatures[i*24:i*24+24])\n",
    "# transform into hour, day (from start), temperature sets\n",
    "train = []\n",
    "day = 0\n",
    "for d in daily:\n",
    "    for h, t in enumerate(d):\n",
    "        train.append([h, day, float(t)])\n",
    "    day += 1\n",
    "train = pd.DataFrame(np.array(train), columns=['hour', 'day','temp'])\n",
    "# day now starts at the first day predicted\n",
    "# set up the predictions table as hour day pairs\n",
    "find = []\n",
    "for _ in range(n):\n",
    "    for i in range(24):\n",
    "        find.append([i, day])\n",
    "    day += 1\n",
    "find = np.array(find)\n",
    "# instantiate and train the model\n",
    "model = RandomForestRegressor(n_jobs = -1)\n",
    "model.fit(train[['hour', 'day']], train['temp'])\n",
    "# run the predictions\n",
    "return model.predict(find)"
   ]
  },
  {
   "cell_type": "code",
   "execution_count": 74,
   "metadata": {},
   "outputs": [
    {
     "data": {
      "text/plain": [
       "Timestamp('2014-05-04 00:00:00')"
      ]
     },
     "execution_count": 74,
     "metadata": {},
     "output_type": "execute_result"
    }
   ],
   "source": [
    "# idea time:\n",
    "# use hour of day as input, temperature as output\n",
    "# this means I need a different data layout\n",
    "startDate + timedelta(days=1)"
   ]
  },
  {
   "cell_type": "code",
   "execution_count": 57,
   "metadata": {},
   "outputs": [
    {
     "data": {
      "text/plain": [
       "Timestamp('2014-05-03 00:00:00')"
      ]
     },
     "execution_count": 57,
     "metadata": {},
     "output_type": "execute_result"
    }
   ],
   "source": [
    "startDate"
   ]
  },
  {
   "cell_type": "code",
   "execution_count": null,
   "metadata": {},
   "outputs": [],
   "source": []
  }
 ],
 "metadata": {
  "kernelspec": {
   "display_name": "Python 3",
   "language": "python",
   "name": "python3"
  },
  "language_info": {
   "codemirror_mode": {
    "name": "ipython",
    "version": 3
   },
   "file_extension": ".py",
   "mimetype": "text/x-python",
   "name": "python",
   "nbconvert_exporter": "python",
   "pygments_lexer": "ipython3",
   "version": "3.7.1"
  }
 },
 "nbformat": 4,
 "nbformat_minor": 4
}
